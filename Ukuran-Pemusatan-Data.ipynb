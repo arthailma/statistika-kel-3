{
  "nbformat": 4,
  "nbformat_minor": 0,
  "metadata": {
    "colab": {
      "name": "Untitled0.ipynb",
      "version": "0.3.2",
      "provenance": []
    },
    "kernelspec": {
      "name": "python3",
      "display_name": "Python 3"
    }
  },
  "cells": [
    {
      "cell_type": "markdown",
      "metadata": {
        "id": "76sI-qkrfjAB",
        "colab_type": "text"
      },
      "source": [
        "# UKURAN PEMUSATAN DATA\n",
        "\n",
        "---\n",
        "\n",
        "Definisi Ukuran Pemusatan Data adalah sembarang ukuran yang menunjukkan pusat segugus data, yang telah diurutkan dari yang terkecil sampai yang terbesar atau sebaliknya dari yang terbesar sampai yang terkecil. Terdapat tiga ukuran pemusatan data yang sering digunakan, yaitu: Mean (Rata-rata hitung/rata-rata aritmatika), Median (Nilai Tengah) Modus (Nilai yang sering muncul).\n",
        "\n",
        "## Mean\n",
        "\n",
        "Mean atau rata-rata hitung adalah nilai yang diperoleh dari jumlah sekelompok data dibagi dengan banyaknya data.\n",
        "\n",
        "---\n",
        "\n",
        "### Rata-rata untuk Data Tunggal\n",
        "\n",
        "> ![alt text](https://render.githubusercontent.com/render/math?math=%5Coverline%7BX%7D%20%3D%20%5Cfrac%7B%5Csum%20x%7D%7Bn%7D&mode=inline) atau ![alt text](https://render.githubusercontent.com/render/math?math=%5Coverline%7BX%7D%20%3D%20%5Cfrac%7Bx_%7B1%7D%2Bx_%7B2%7D%2B%20...%2Bx_%7Bn%7D%7D%7Bn%7D&mode=inline)\n",
        "\n",
        "Keterangan:\n",
        "\n",
        "*   ![alt text](https://render.githubusercontent.com/render/math?math=%E1%BA%8B&mode=inline) = mean.\n",
        "*   ![alt text](https://render.githubusercontent.com/render/math?math=n&mode=inline) = banyaknya data.\n",
        "\n",
        "#### Contoh:\n",
        "\n",
        "Hitunglah nilai rata-rata dari jumlah halaman per kunjungan10 website teratas berikut ini: 8, 7, 10, 11, 4, 4, 4, 7, 2, 4.\n",
        "\n",
        "Penyelesaian:\n",
        "\n",
        "> (8 + 7 + 10 + 11 + 4 + 4 + 4 + 7 + 2 + 4) / 10 = 6,1\n",
        "\n",
        "---\n",
        "\n",
        "### Rata-rata untuk Data Berkelompok\n",
        "\n",
        "> ![alt text](https://render.githubusercontent.com/render/math?math=%5Coverline%7BX%7D%20%3D%5Cfrac%7B%5Csum%20fi%20.%20xi%7D%7B%5Csum%20fi%7D&mode=inline)\n",
        "\n",
        "Keterangan:\n",
        "\n",
        "* ![alt_text](https://render.githubusercontent.com/render/math?math=fi&mode=inline) = frekuensi.\n",
        "* ![alt_text](https://render.githubusercontent.com/render/math?math=xi&mode=inline) = nilai tengah.\n",
        "\n",
        "> Nilai tengah adalah jumlah tepi bawah dan tepi atas dibagi 2.\n",
        "\n",
        "#### Contoh:\n",
        "\n",
        "| Interval Jumlah | Frekuensi (![alt_text](https://render.githubusercontent.com/render/math?math=f&mode=inline)) | Nilai Tengah (![alt_text](https://render.githubusercontent.com/render/math?math=x&mode=inline)) | Frekuensi . Nilai Tengah (![alt_text](https://render.githubusercontent.com/render/math?math=f.x&mode=inline)) |\n",
        "| --- | --- | --- | --- |\n",
        "| 2 - 3 | 1 | 2,5 | 2,5 |\n",
        "| 4 - 5 | 4 | 4,5 | 19 |\n",
        "| 6 - 7 | 2 | 6,5 | 13 |\n",
        "| 8 - 9 | 1 | 8,5 | 8,5 |\n",
        "| 10 - 11 | 2 | 10,5 | 21 |\n",
        "| Jumlah | 10 | - | 63 |\n",
        "\n",
        "Penyelesaian:\n",
        "\n",
        "> Mean = 63 / 10 = 6,3"
      ]
    }
  ]
}