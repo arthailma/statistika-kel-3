{
  "nbformat": 4,
  "nbformat_minor": 0,
  "metadata": {
    "colab": {
      "name": "tugas_statistics_pertemuan_1_Implementasi Random Sampling Menggunakan Python.ipynb",
      "version": "0.3.2",
      "provenance": [],
      "collapsed_sections": [],
      "include_colab_link": true
    },
    "kernelspec": {
      "name": "python3",
      "display_name": "Python 3"
    }
  },
  "cells": [
    {
      "cell_type": "markdown",
      "metadata": {
        "id": "view-in-github",
        "colab_type": "text"
      },
      "source": [
        "<a href=\"https://colab.research.google.com/github/arthailma/statistika-kel-3/blob/master/Implementasi_Random_Sampling_Menggunakan_Python.ipynb\" target=\"_parent\"><img src=\"https://colab.research.google.com/assets/colab-badge.svg\" alt=\"Open In Colab\"/></a>"
      ]
    },
    {
      "cell_type": "markdown",
      "metadata": {
        "id": "8Wbs_Ao4qaSe",
        "colab_type": "text"
      },
      "source": [
        "<h3>Implementasi Random Sampling Menggunakan Python</h3>\n",
        "<h4>1. Random Sampling Pada List</h4>\n",
        "<p>Berikut contoh bagaimana cara untuk mengimplementasikan random sampling pada list (array) menggunakan python<p>\n",
        "<p>1.1 Tanpa redudansi</p>\n",
        "<p>Untuk menerapkan random sampling tanpa terjadinya redudansi data, maka kita dapat menggunakan fungsi random.sample()</p>\n"
      ]
    },
    {
      "cell_type": "code",
      "metadata": {
        "id": "mixZWdrRW34e",
        "colab_type": "code",
        "outputId": "232172e4-2dc4-4262-b861-34fab592f743",
        "colab": {
          "base_uri": "https://localhost:8080/",
          "height": 35
        }
      },
      "source": [
        "# random_sampling_pada_list_tanpa_redudansi\n",
        "\n",
        "import random\n",
        "\n",
        "data = [ 'google.com', 'google.co.id', 'facebook.com', 'youtube.com', 'tribunnews.com', 'detik.com', 'tokopedia.com', 'yahoo.com', 'whatsapp.com', 'bukalapak.com' ]\n",
        "print(\"3 data terpilih untuk dijadikan sampel adalah : \", random.sample(data, k=3))"
      ],
      "execution_count": 27,
      "outputs": [
        {
          "output_type": "stream",
          "text": [
            "3 data terpilih untuk dijadikan sampel adalah :  ['detik.com', 'whatsapp.com', 'google.co.id']\n"
          ],
          "name": "stdout"
        }
      ]
    },
    {
      "cell_type": "markdown",
      "metadata": {
        "id": "z5pNs4hVrKQ-",
        "colab_type": "text"
      },
      "source": [
        "<p>1.2 Dengan redudansi</p>\n",
        "<p>Untuk menerapkan random sampling dengan menyertakan redudansi data, maka kita dapat menggunakan fungsi random.choices()</p>"
      ]
    },
    {
      "cell_type": "code",
      "metadata": {
        "id": "nawa5TfhXX5l",
        "colab_type": "code",
        "outputId": "86f5a893-2af7-4173-e066-31a9d5bba4b8",
        "colab": {
          "base_uri": "https://localhost:8080/",
          "height": 35
        }
      },
      "source": [
        "# random_sampling_pada_list_dengan_redudansi\n",
        "\n",
        "import random\n",
        "\n",
        "data = [ 'google.com', 'google.co.id', 'facebook.com', 'youtube.com', 'tribunnews.com', 'detik.com', 'tokopedia.com', 'yahoo.com', 'whatsapp.com', 'bukalapak.com' ]\n",
        "print(\"3 data terpilih untuk dijadikan sampel adalah : \", random.choices(data, k=3))"
      ],
      "execution_count": 26,
      "outputs": [
        {
          "output_type": "stream",
          "text": [
            "3 data terpilih untuk dijadikan sampel adalah :  ['tribunnews.com', 'facebook.com', 'whatsapp.com']\n"
          ],
          "name": "stdout"
        }
      ]
    },
    {
      "cell_type": "markdown",
      "metadata": {
        "id": "NzzlBL1irXjF",
        "colab_type": "text"
      },
      "source": [
        "<p>1.3 Nested List</p>\n",
        "<p>Untuk menerapkan random sampling pada nested list, kita perlu menggunakan library numpy, pertama untuk membuat nested list dapat menggunakan fungsi numpy.array(), kemudian untuk memilih sampel secara acak dari nested list tersebut dapat menggunakan fungsi numpy.random.randint()</p>"
      ]
    },
    {
      "cell_type": "code",
      "metadata": {
        "id": "126umDuCXyYZ",
        "colab_type": "code",
        "outputId": "ef4158bf-1d39-4ac2-c021-916a8acae429",
        "colab": {
          "base_uri": "https://localhost:8080/",
          "height": 90
        }
      },
      "source": [
        "# random_sampling_pada_list_nested_list\n",
        "\n",
        "import random\n",
        "import numpy\n",
        "\n",
        "data = numpy.array([\n",
        "    ['google.com', 'google.co.id'],\n",
        "    ['youtube.com', 'tribunnews.com'],\n",
        "    ['tokopedia.com', 'yahoo.com'],\n",
        "    ['facebook.com', 'detik.com'],\n",
        "    ['whatsapp.com', 'bukalapak.com']\n",
        "])\n",
        "\n",
        "randomData = numpy.random.randint(5, size=3)\n",
        "\n",
        "print(\"3 data terpilih untuk dijadikan sampel adalah : \")\n",
        "for i in randomData:\n",
        "  print(data[i])"
      ],
      "execution_count": 25,
      "outputs": [
        {
          "output_type": "stream",
          "text": [
            "3 data terpilih untuk dijadikan sampel adalah : \n",
            "['facebook.com' 'detik.com']\n",
            "['youtube.com' 'tribunnews.com']\n",
            "['whatsapp.com' 'bukalapak.com']\n"
          ],
          "name": "stdout"
        }
      ]
    },
    {
      "cell_type": "markdown",
      "metadata": {
        "id": "vE8_KH3rrl6c",
        "colab_type": "text"
      },
      "source": [
        "<h4>2. Random Sampling Pada Set</h4>\n",
        "<p>Berikut contoh bagaimana cara untuk mengimplementasikan random sampling pada set menggunakan python<p>\n",
        "<p>2.1 Tanpa redudansi</p>\n",
        "<p>Random sampling pada set hanya dapat diimplementasikan tanpa menyertakan redudansi data, hal ini karena set tidak mendukung indexing. Untuk menerapkan random sampling tanpa terjadinya redudansi data, maka kita dapat menggunakan fungsi random.sample()</p>\n"
      ]
    },
    {
      "cell_type": "code",
      "metadata": {
        "id": "u3LaHUKhYGft",
        "colab_type": "code",
        "outputId": "b6c1bdc9-3fd4-48cf-b8a5-07cdb5fde178",
        "colab": {
          "base_uri": "https://localhost:8080/",
          "height": 35
        }
      },
      "source": [
        "# random_sampling_pada_set_tanpa_redudansi\n",
        "\n",
        "import random\n",
        "\n",
        "data = {'google.com', 'google.co.id', 'facebook.com', 'youtube.com', 'tribunnews.com', 'detik.com', 'tokopedia.com', 'yahoo.com', 'whatsapp.com', 'bukalapak.com'}\n",
        "print(\"3 data terpilih untuk dijadikan sampel adalah : \", random.sample(data, k=3))"
      ],
      "execution_count": 16,
      "outputs": [
        {
          "output_type": "stream",
          "text": [
            "3 data terpilih untuk dijadikan sampel adalah :  ['facebook.com', 'tokopedia.com', 'youtube.com']\n"
          ],
          "name": "stdout"
        }
      ]
    },
    {
      "cell_type": "markdown",
      "metadata": {
        "id": "9TCGZfzyr4VG",
        "colab_type": "text"
      },
      "source": [
        "<h4>3. Random Sampling Pada Dictionary</h4>\n",
        "<p>Berikut contoh bagaimana cara untuk mengimplementasikan random sampling pada dictionary (objek) menggunakan python<p>\n",
        "<p>3.1 Tanpa redudansi</p>\n",
        "<p>Random sampling pada dictionary hanya dapat diimplementasikan tanpa menyertakan redudansi data, hal ini karena dictionary tidak mendukung indexing. Untuk menerapkan random sampling tanpa terjadinya redudansi data, maka kita dapat menggunakan fungsi random.sample()</p>\n"
      ]
    },
    {
      "cell_type": "code",
      "metadata": {
        "id": "HnvH3K9gYcWD",
        "colab_type": "code",
        "outputId": "0ca6cfe3-a5c5-4981-d68a-eb51947a3970",
        "colab": {
          "base_uri": "https://localhost:8080/",
          "height": 35
        }
      },
      "source": [
        "# random_sampling_pada_dictionary_tanpa_redudansi\n",
        "\n",
        "import random\n",
        "\n",
        "data = {\n",
        "    \"mobile phone\": 60,\n",
        "    \"smartphone\": 60,\n",
        "    \"laptop and dekstop\": 22,\n",
        "    \"tablet devices\": 8,\n",
        "    \"television\": 95,\n",
        "    \"device for streaming internet conten to tv\": 2,\n",
        "    \"E-reader device\": 2,\n",
        "    \"wearable tech devices\": 2\n",
        "}\n",
        "print(\"3 data terpilih untuk dijadikan sampel adalah : \", random.sample(data.items(), k=3))"
      ],
      "execution_count": 15,
      "outputs": [
        {
          "output_type": "stream",
          "text": [
            "3 data terpilih untuk dijadikan sampel adalah :  [('wearable tech devices', 2), ('television', 95), ('laptop and dekstop', 22)]\n"
          ],
          "name": "stdout"
        }
      ]
    }
  ]
}