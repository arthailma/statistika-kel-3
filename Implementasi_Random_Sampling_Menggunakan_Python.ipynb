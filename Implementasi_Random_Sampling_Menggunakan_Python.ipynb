{
  "nbformat": 4,
  "nbformat_minor": 0,
  "metadata": {
    "colab": {
      "name": "tugas_statistics_pertemuan_1_Implementasi Random Sampling Menggunakan Python.ipynb",
      "version": "0.3.2",
      "provenance": [],
      "collapsed_sections": [],
      "include_colab_link": true
    },
    "kernelspec": {
      "name": "python3",
      "display_name": "Python 3"
    }
  },
  "cells": [
    {
      "cell_type": "markdown",
      "metadata": {
        "id": "view-in-github",
        "colab_type": "text"
      },
      "source": [
        "<a href=\"https://colab.research.google.com/github/arthailma/statistika-kel-3/blob/master/Implementasi_Random_Sampling_Menggunakan_Python.ipynb\" target=\"_parent\"><img src=\"https://colab.research.google.com/assets/colab-badge.svg\" alt=\"Open In Colab\"/></a>"
      ]
    },
    {
      "cell_type": "markdown",
      "metadata": {
        "id": "8Wbs_Ao4qaSe",
        "colab_type": "text"
      },
      "source": [
        "<h3>Implementasi Random Sampling Menggunakan Python</h3>\n",
        "<h4>1. Random Sampling Pada List</h4>\n",
        "<p>Berikut contoh bagaimana cara untuk mengimplementasikan random sampling pada list (array) menggunakan python<p>\n",
        "<p>1.1 Tanpa redudansi</p>\n",
        "<p>Untuk menerapkan random sampling tanpa terjadinya redudansi data, maka kita dapat menggunakan fungsi random.sample()</p>\n"
      ]
    },
    {
      "cell_type": "code",
      "metadata": {
        "id": "mixZWdrRW34e",
        "colab_type": "code",
        "outputId": "7a439295-4cfd-43bf-eaab-7fd8415ebb5c",
        "colab": {
          "base_uri": "https://localhost:8080/",
          "height": 35
        }
      },
      "source": [
        "# random_sampling_pada_list_tanpa_redudansi\n",
        "\n",
        "import random\n",
        "\n",
        "data = [ 8, 7, 10, 11, 4, 4, 4, 7, 2, 4]\n",
        "print(\"3 data terpilih untuk dijadikan sampel adalah : \", random.sample(data, k=3))"
      ],
      "execution_count": 0,
      "outputs": [
        {
          "output_type": "stream",
          "text": [
            "3 data terpilih untuk dijadikan sampel adalah :  [7, 4, 8]\n"
          ],
          "name": "stdout"
        }
      ]
    },
    {
      "cell_type": "markdown",
      "metadata": {
        "id": "z5pNs4hVrKQ-",
        "colab_type": "text"
      },
      "source": [
        "<p>1.2 Dengan redudansi</p>\n",
        "<p>Untuk menerapkan random sampling dengan menyertakan redudansi data, maka kita dapat menggunakan fungsi random.choices()</p>"
      ]
    },
    {
      "cell_type": "code",
      "metadata": {
        "id": "nawa5TfhXX5l",
        "colab_type": "code",
        "outputId": "d0fcfd8a-38bb-443c-febe-73d2685641de",
        "colab": {
          "base_uri": "https://localhost:8080/",
          "height": 35
        }
      },
      "source": [
        "# random_sampling_pada_list_dengan_redudansi\n",
        "\n",
        "import random\n",
        "\n",
        "data = [ 8, 7, 10, 11, 4, 4, 4, 7, 2, 4 ]\n",
        "print(\"3 data terpilih untuk dijadikan sampel adalah : \", random.choices(data, k=3))"
      ],
      "execution_count": 0,
      "outputs": [
        {
          "output_type": "stream",
          "text": [
            "3 data terpilih untuk dijadikan sampel adalah :  [10, 10, 7]\n"
          ],
          "name": "stdout"
        }
      ]
    },
    {
      "cell_type": "markdown",
      "metadata": {
        "id": "NzzlBL1irXjF",
        "colab_type": "text"
      },
      "source": [
        "<p>1.3 Nested List</p>\n",
        "<p>Untuk menerapkan random sampling pada nested list, kita perlu menggunakan library numpy, pertama untuk membuat nested list dapat menggunakan fungsi numpy.array(), kemudian untuk memilih sampel secara acak dari nested list tersebut dapat menggunakan fungsi numpy.random.randint()</p>"
      ]
    },
    {
      "cell_type": "code",
      "metadata": {
        "id": "126umDuCXyYZ",
        "colab_type": "code",
        "outputId": "a1c81cc9-b30b-46cb-a5a4-97ba493e805e",
        "colab": {
          "base_uri": "https://localhost:8080/",
          "height": 90
        }
      },
      "source": [
        "# random_sampling_pada_list_nested_list\n",
        "\n",
        "import random\n",
        "import numpy\n",
        "\n",
        "data = numpy.array([\n",
        "    [1, 2, 3],\n",
        "    [4, 5, 6],\n",
        "    [7, 8, 9],\n",
        "    [10, 11, 12],\n",
        "    [13, 14, 15],\n",
        "    [16, 17, 18]\n",
        "])\n",
        "\n",
        "randomData = numpy.random.randint(6, size=3)\n",
        "\n",
        "print(\"3 data terpilih untuk dijadikan sampel adalah : \")\n",
        "for i in randomData:\n",
        "  print(data[i])"
      ],
      "execution_count": 0,
      "outputs": [
        {
          "output_type": "stream",
          "text": [
            "3 data terpilih untuk dijadikan sampel adalah : \n",
            "[4 5 6]\n",
            "[10 11 12]\n",
            "[7 8 9]\n"
          ],
          "name": "stdout"
        }
      ]
    },
    {
      "cell_type": "markdown",
      "metadata": {
        "id": "vE8_KH3rrl6c",
        "colab_type": "text"
      },
      "source": [
        "<h4>2. Random Sampling Pada Set</h4>\n",
        "<p>Berikut contoh bagaimana cara untuk mengimplementasikan random sampling pada set menggunakan python<p>\n",
        "<p>2.1 Tanpa redudansi</p>\n",
        "<p>Random sampling pada set hanya dapat diimplementasikan tanpa menyertakan redudansi data, hal ini karena set tidak mendukung indexing. Untuk menerapkan random sampling tanpa terjadinya redudansi data, maka kita dapat menggunakan fungsi random.sample()</p>\n"
      ]
    },
    {
      "cell_type": "code",
      "metadata": {
        "id": "u3LaHUKhYGft",
        "colab_type": "code",
        "outputId": "c235a801-bd10-4c3d-c95e-c04f7485726f",
        "colab": {
          "base_uri": "https://localhost:8080/",
          "height": 35
        }
      },
      "source": [
        "# random_sampling_pada_set_tanpa_redudansi\n",
        "\n",
        "import random\n",
        "\n",
        "data = {8, 7, 10, 11, 4, 4, 4, 7, 2, 4}\n",
        "print(\"3 data terpilih untuk dijadikan sampel adalah : \", random.sample(data, k=3))"
      ],
      "execution_count": 0,
      "outputs": [
        {
          "output_type": "stream",
          "text": [
            "3 data terpilih untuk dijadikan sampel adalah :  [10, 8, 11]\n"
          ],
          "name": "stdout"
        }
      ]
    },
    {
      "cell_type": "markdown",
      "metadata": {
        "id": "9TCGZfzyr4VG",
        "colab_type": "text"
      },
      "source": [
        "<h4>3. Random Sampling Pada Dictionary</h4>\n",
        "<p>Berikut contoh bagaimana cara untuk mengimplementasikan random sampling pada dictionary (objek) menggunakan python<p>\n",
        "<p>3.1 Tanpa redudansi</p>\n",
        "<p>Random sampling pada dictionary hanya dapat diimplementasikan tanpa menyertakan redudansi data, hal ini karena dictionary tidak mendukung indexing. Untuk menerapkan random sampling tanpa terjadinya redudansi data, maka kita dapat menggunakan fungsi random.sample()</p>\n"
      ]
    },
    {
      "cell_type": "code",
      "metadata": {
        "id": "HnvH3K9gYcWD",
        "colab_type": "code",
        "outputId": "fade016a-8680-4758-8fd5-af4e75cb22bf",
        "colab": {
          "base_uri": "https://localhost:8080/",
          "height": 35
        }
      },
      "source": [
        "# random_sampling_pada_dictionary_tanpa_redudansi\n",
        "\n",
        "import random\n",
        "\n",
        "data = {\n",
        "    \"aka\": 1,\n",
        "    \"fany\": 2,\n",
        "    \"berlian\": 3,\n",
        "    \"brilian\": 4,\n",
        "    \"dirga\": 5\n",
        "}\n",
        "print(\"3 data terpilih untuk dijadikan sampel adalah : \", random.sample(data.items(), k=3))"
      ],
      "execution_count": 0,
      "outputs": [
        {
          "output_type": "stream",
          "text": [
            "3 data terpilih untuk dijadikan sampel adalah :  [('fany', 2), ('aka', 1), ('dirga', 5)]\n"
          ],
          "name": "stdout"
        }
      ]
    }
  ]
}