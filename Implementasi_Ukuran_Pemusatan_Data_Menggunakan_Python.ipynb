{
  "nbformat": 4,
  "nbformat_minor": 0,
  "metadata": {
    "colab": {
      "name": "tugas_statistics_pertemuan_1_Implementasi_Ukuran_Pemusatan_Data_Menggunakan_Python.ipynb",
      "version": "0.3.2",
      "provenance": [],
      "collapsed_sections": [],
      "include_colab_link": true
    },
    "kernelspec": {
      "name": "python3",
      "display_name": "Python 3"
    }
  },
  "cells": [
    {
      "cell_type": "markdown",
      "metadata": {
        "id": "view-in-github",
        "colab_type": "text"
      },
      "source": [
        "<a href=\"https://colab.research.google.com/github/arthailma/statistika-kel-3/blob/master/Implementasi_Ukuran_Pemusatan_Data_Menggunakan_Python.ipynb\" target=\"_parent\"><img src=\"https://colab.research.google.com/assets/colab-badge.svg\" alt=\"Open In Colab\"/></a>"
      ]
    },
    {
      "cell_type": "markdown",
      "metadata": {
        "id": "_9j0YDjIlrsM",
        "colab_type": "text"
      },
      "source": [
        "<h3>Implementasi Ukuran Pemusatan Data Menggunakan Python</h3>\n",
        "<h4>1. Mean</h4>\n",
        "<p>1.1 Manual</p>\n",
        "<p>Berikut contoh implementasi bagaimana mencari mean pada python tanpa menggunakan library</p>\n"
      ]
    },
    {
      "cell_type": "code",
      "metadata": {
        "id": "7NQEHJNuQoiy",
        "colab_type": "code",
        "outputId": "ddff4b21-35b0-4b12-d344-2377c5e329a5",
        "colab": {
          "base_uri": "https://localhost:8080/",
          "height": 35
        }
      },
      "source": [
        "# ------- Mean manual-------\n",
        "data = [ 8, 7, 10, 11, 4, 4, 4, 7, 2, 4]\n",
        "mean = sum(data) / len(data)\n",
        "\n",
        "print(\"mean = \" + str(mean))"
      ],
      "execution_count": 0,
      "outputs": [
        {
          "output_type": "stream",
          "text": [
            "mean = 6.1\n"
          ],
          "name": "stdout"
        }
      ]
    },
    {
      "cell_type": "markdown",
      "metadata": {
        "id": "kYEj2K9xodet",
        "colab_type": "text"
      },
      "source": [
        "<p>1.2 Mengunakan Library Statics\n",
        "<p>Berikut contoh implementasi bagaimana mencari mean pada python menggunakan library statistics</p>"
      ]
    },
    {
      "cell_type": "code",
      "metadata": {
        "id": "uxL6MEZXPCGi",
        "colab_type": "code",
        "outputId": "d6062393-3efc-44ca-f24b-8f6a26c64f0b",
        "colab": {
          "base_uri": "https://localhost:8080/",
          "height": 35
        }
      },
      "source": [
        "# ------- Mean statistics-------\n",
        "data = [ 8, 7, 10, 11, 4, 4, 4, 7, 2, 4] \n",
        "mean = sum(data) / len(data) \n",
        "  \n",
        "print(\"mean dari data tersebut adalah \" + str(mean))"
      ],
      "execution_count": 0,
      "outputs": [
        {
          "output_type": "stream",
          "text": [
            "mean dari data tersebut adalah 6.1\n"
          ],
          "name": "stdout"
        }
      ]
    },
    {
      "cell_type": "markdown",
      "metadata": {
        "id": "U_Ul8MchozXw",
        "colab_type": "text"
      },
      "source": [
        "<h4>2. Median</h4>\n",
        "<p>2.1 Manual</p>\n",
        "<p>Berikut contoh implementasi bagaimana mencari median pada python tanpa menggunakan library</p>"
      ]
    },
    {
      "cell_type": "code",
      "metadata": {
        "id": "aKIYtioERY14",
        "colab_type": "code",
        "outputId": "a0f02a8e-07f9-400b-bc56-2fc3a4431084",
        "colab": {
          "base_uri": "https://localhost:8080/",
          "height": 35
        }
      },
      "source": [
        "# ------- Median manual-------\n",
        "data = [ 8, 7, 10, 11, 4, 4, 4, 7, 2, 4] \n",
        "length = len(data) \n",
        "data.sort() \n",
        "  \n",
        "if length % 2 == 0: \n",
        "    median1 = data[int(length / 2)] \n",
        "    median2 = data[int(length / 2) - 1] \n",
        "    median = (median1 + median2) / 2\n",
        "else: \n",
        "    median = data[int(length / 2)] \n",
        "print(\"median dari data tersebut adalah \" + str(median))"
      ],
      "execution_count": 0,
      "outputs": [
        {
          "output_type": "stream",
          "text": [
            "median dari data tersebut adalah 5.5\n"
          ],
          "name": "stdout"
        }
      ]
    },
    {
      "cell_type": "markdown",
      "metadata": {
        "id": "O-ZgaaxBpN5q",
        "colab_type": "text"
      },
      "source": [
        "2.2 Menggunakan Library statistics\n",
        "<p>Berikut contoh implementasi bagaimana mencari median pada python menggunakan library statistics</p>"
      ]
    },
    {
      "cell_type": "code",
      "metadata": {
        "id": "5cDv06YSQKBe",
        "colab_type": "code",
        "outputId": "e30aa627-6701-405d-c331-b07240bb38eb",
        "colab": {
          "base_uri": "https://localhost:8080/",
          "height": 35
        }
      },
      "source": [
        "# ------- Median statistics-------\n",
        "import statistics as stat\n",
        "data = [ 8, 7, 10, 11, 4, 4, 4, 7, 2, 4]\n",
        "\n",
        "print(\" median = \",stat.median(data))"
      ],
      "execution_count": 0,
      "outputs": [
        {
          "output_type": "stream",
          "text": [
            " median =  5.5\n"
          ],
          "name": "stdout"
        }
      ]
    },
    {
      "cell_type": "markdown",
      "metadata": {
        "id": "AcqWxjEPpp_0",
        "colab_type": "text"
      },
      "source": [
        "<h4>3. Modus</h4>\n",
        "<p>3.1 Manual</p>\n",
        "<p>Berikut contoh implementasi bagaimana mencari modus pada python tanpa menggunakan library</p>"
      ]
    },
    {
      "cell_type": "code",
      "metadata": {
        "id": "qIsa35l9Se0g",
        "colab_type": "code",
        "outputId": "3a070bb8-09ca-4e30-b9b8-0e7d9ccaab3c",
        "colab": {
          "base_uri": "https://localhost:8080/",
          "height": 35
        }
      },
      "source": [
        "from collections import Counter\n",
        "\n",
        "# ------- Modus manual-------\n",
        "n_num = [ 8, 7, 10, 11, 4, 4, 4, 7, 2, 4]\n",
        "n = len(n_num)\n",
        "\n",
        "data = Counter(n_num)\n",
        "get_mode = dict(data)\n",
        "mode = [k for k, v in get_mode.items() if v ==max(list(data.values()))]\n",
        "\n",
        "if len(mode) == n:\n",
        "    get_mode = \"modus tidak ditemukan\"\n",
        "else:\n",
        "    get_mode = \"modus dari data tersebut adalah \"+ ','.join(map(str, mode))\n",
        "\n",
        "print(get_mode)\n"
      ],
      "execution_count": 0,
      "outputs": [
        {
          "output_type": "stream",
          "text": [
            "modus dari data tersebut adalah 4\n"
          ],
          "name": "stdout"
        }
      ]
    },
    {
      "cell_type": "markdown",
      "metadata": {
        "id": "nQkzLc1kp22P",
        "colab_type": "text"
      },
      "source": [
        "<p>3.2 Menggunakan Library Statistics</p>\n",
        "<p>Berikut contoh implementasi bagaimana mencari modus pada python menggunakan library statistics</p>"
      ]
    },
    {
      "cell_type": "code",
      "metadata": {
        "id": "-MMu2BMkS5Fy",
        "colab_type": "code",
        "outputId": "5cd51891-d2cb-4269-97e2-7a6d16ec0e0d",
        "colab": {
          "base_uri": "https://localhost:8080/",
          "height": 35
        }
      },
      "source": [
        "import statistics as stat\n",
        "\n",
        "# ------- Modus statistics-------\n",
        "data = [ 8, 7, 10, 11, 4, 4, 4, 7, 2, 4]\n",
        "print(\"modus dari data tersebut adalah\", stat.mode(data))\n"
      ],
      "execution_count": 0,
      "outputs": [
        {
          "output_type": "stream",
          "text": [
            "modus dari data tersebut adalah 4\n"
          ],
          "name": "stdout"
        }
      ]
    }
  ]
}