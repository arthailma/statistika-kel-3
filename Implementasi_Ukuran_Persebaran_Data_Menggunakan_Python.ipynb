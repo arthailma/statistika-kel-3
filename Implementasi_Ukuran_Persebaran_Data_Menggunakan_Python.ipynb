{
  "nbformat": 4,
  "nbformat_minor": 0,
  "metadata": {
    "colab": {
      "name": "tugas_statistics_pertemuan_1_Implementasi_Ukuran_Persebaran_Data_Menggunakan_Python.ipynb",
      "version": "0.3.2",
      "provenance": [],
      "collapsed_sections": [],
      "include_colab_link": true
    },
    "kernelspec": {
      "name": "python3",
      "display_name": "Python 3"
    }
  },
  "cells": [
    {
      "cell_type": "markdown",
      "metadata": {
        "id": "view-in-github",
        "colab_type": "text"
      },
      "source": [
        "<a href=\"https://colab.research.google.com/github/arthailma/statistika-kel-3/blob/master/Implementasi_Ukuran_Persebaran_Data_Menggunakan_Python.ipynb\" target=\"_parent\"><img src=\"https://colab.research.google.com/assets/colab-badge.svg\" alt=\"Open In Colab\"/></a>"
      ]
    },
    {
      "cell_type": "markdown",
      "metadata": {
        "id": "LRsi-EAmsJFr",
        "colab_type": "text"
      },
      "source": [
        "<h3>Implementasi Ukuran Persebaran Data Menggunakan Python</h3>\n",
        "<h4>1. Variasi</h4>\n",
        "<p>Variasi merupakan ukuran seberapa jauh sebuah kumpulan bilangan dapat tersebar<p>\n",
        "<p>1.1 Menggunakan LibraryStatistics</p>\n",
        "<p>Berikut contoh implementasi pencarian variasi menggunakan library statistics</p>\n"
      ]
    },
    {
      "cell_type": "code",
      "metadata": {
        "id": "62kJqZb9U0jU",
        "colab_type": "code",
        "outputId": "b4f9d48d-a64d-45a2-d07e-254828ab7a4b",
        "colab": {
          "base_uri": "https://localhost:8080/",
          "height": 35
        }
      },
      "source": [
        "# ------------- Variasi statistics ----------------\n",
        "\n",
        "import statistics as stat\n",
        "\n",
        "data=[ 8, 7, 10, 11, 4, 4, 4, 7, 2, 4]\n",
        "\n",
        "print(\"varian dari data tersebut adalah \", stat.variance(data))"
      ],
      "execution_count": 0,
      "outputs": [
        {
          "output_type": "stream",
          "text": [
            "varian dari data tersebut adalah  8.766666666666667\n"
          ],
          "name": "stdout"
        }
      ]
    },
    {
      "cell_type": "markdown",
      "metadata": {
        "id": "gTtDZlcLsgd4",
        "colab_type": "text"
      },
      "source": [
        "<p>1.2 Menggunakan Library Numpy</p>\n",
        "<p>Berikut contoh implementasi pencarian variasi menggunakan library numpy</p>"
      ]
    },
    {
      "cell_type": "code",
      "metadata": {
        "id": "ldfCXq5iVi4-",
        "colab_type": "code",
        "outputId": "98b01dce-fbec-4ec1-f6c9-3a9132cab906",
        "colab": {
          "base_uri": "https://localhost:8080/",
          "height": 35
        }
      },
      "source": [
        "# ------------- Variasi numpy ----------------\n",
        "\n",
        "import numpy as np  \n",
        "\n",
        "data=[ 8, 7, 10, 11, 4, 4, 4, 7, 2, 4]\n",
        "\n",
        "print(\"varian dari data tersebut adalah \", np.var(data))"
      ],
      "execution_count": 0,
      "outputs": [
        {
          "output_type": "stream",
          "text": [
            "varian dari data tersebut adalah  7.890000000000001\n"
          ],
          "name": "stdout"
        }
      ]
    },
    {
      "cell_type": "markdown",
      "metadata": {
        "id": "1z7CNZLesodV",
        "colab_type": "text"
      },
      "source": [
        "<h4>2. Standart Deviasi</h4>\n",
        "<p>Standar deviasi merupakan nilai statistik yang digunakan untuk menentukan bagaimana sebaran data dalam sampel, dan seberapa dekat titik data individu ke mean atau rata - rata nilai sampel<p>\n",
        "<p>2.1 Menggunakan Library Statistics</p>\n",
        "<p>Berikut contoh implementasi pencarian standard deviasi menggunakan library statistics</p>\n"
      ]
    },
    {
      "cell_type": "code",
      "metadata": {
        "id": "Q5U2EJuNVrTy",
        "colab_type": "code",
        "outputId": "9c670f09-bb85-41b5-82a6-3c9aac9ee3b0",
        "colab": {
          "base_uri": "https://localhost:8080/",
          "height": 35
        }
      },
      "source": [
        "# ------------- Deviasi statistics ----------------\n",
        "\n",
        "import statistics as stat\n",
        "\n",
        "data=[ 8, 7, 10, 11, 4, 4, 4, 7, 2, 4]\n",
        "\n",
        "print(\"standard deviasi dari data tersebut adalah \", stat.stdev(data))"
      ],
      "execution_count": 0,
      "outputs": [
        {
          "output_type": "stream",
          "text": [
            "standard deviasi dari data tersebut adalah  2.960855732160327\n"
          ],
          "name": "stdout"
        }
      ]
    },
    {
      "cell_type": "markdown",
      "metadata": {
        "id": "cvkX3Sx7tAcY",
        "colab_type": "text"
      },
      "source": [
        "<p>2.2 Menggunakan Library Numpy</p>\n",
        "<p>Berikut contoh implementasi pencarian standard deviasi menggunakan library numpy</p>\n"
      ]
    },
    {
      "cell_type": "code",
      "metadata": {
        "id": "zpCGyn-IV-Ji",
        "colab_type": "code",
        "outputId": "b87a2316-c666-4972-8d52-a9d17188aa69",
        "colab": {
          "base_uri": "https://localhost:8080/",
          "height": 35
        }
      },
      "source": [
        "# ------------- Deviasi numpy ----------------\n",
        "\n",
        "import numpy as np  \n",
        "\n",
        "data=[ 8, 7, 10, 11, 4, 4, 4, 7, 2, 4]\n",
        "\n",
        "print(\"standard deviasi dari data tersebut adalah \", np.std(data))"
      ],
      "execution_count": 0,
      "outputs": [
        {
          "output_type": "stream",
          "text": [
            "standard deviasi dari data tersebut adalah  2.808914381037628\n"
          ],
          "name": "stdout"
        }
      ]
    }
  ]
}