{
  "nbformat": 4,
  "nbformat_minor": 0,
  "metadata": {
    "colab": {
      "name": "Untitled1.ipynb",
      "version": "0.3.2",
      "provenance": [],
      "include_colab_link": true
    },
    "kernelspec": {
      "name": "python3",
      "display_name": "Python 3"
    }
  },
  "cells": [
    {
      "cell_type": "markdown",
      "metadata": {
        "id": "view-in-github",
        "colab_type": "text"
      },
      "source": [
        "<a href=\"https://colab.research.google.com/github/himmy97/statistika-kel-3/blob/master/Penyajian-Data.ipynb\" target=\"_parent\"><img src=\"https://colab.research.google.com/assets/colab-badge.svg\" alt=\"Open In Colab\"/></a>"
      ]
    },
    {
      "cell_type": "code",
      "metadata": {
        "id": "K0CbFh-ofNck",
        "colab_type": "code",
        "colab": {}
      },
      "source": [
        ""
      ],
      "execution_count": 0,
      "outputs": []
    },
    {
      "cell_type": "markdown",
      "metadata": {
        "id": "NLo-Bavd5_mR",
        "colab_type": "text"
      },
      "source": [
        ""
      ]
    },
    {
      "cell_type": "markdown",
      "metadata": {
        "id": "B1owBGuNoFHv",
        "colab_type": "text"
      },
      "source": [
        "# Penyajian Data\n",
        "\n",
        "Salah satu pembahasan dalam statistika deskriptif adalah teknik penyajian data. Data yang sudah kita kumpulkan dan sudah kita peroleh seyogyanya terorganisasi dengan baik, sehingga dapat disajikan dengan baik pula. Data yang tersaji dengan baik dapat dipahami dan bermakna bagi pengguna.\n",
        "\n",
        "Jika data yang sudah diperoleh jumlahnya sangat banyak, maka cara yang baik untuk menganalisa nya adalah dengan mengorganisasi dan menyajikan data tersebut dalam bentuk yang ringkas dan padat. Sehingga membuat pengguna mudah dan cepat dalam membaca data tersebut. Organisasi data adalah proses penyusunan data di dalam kelompok atau kelas berdasarkan ciri-ciri terttentu. Berikut ini adalah tujuan organisasi data:\n",
        "\n",
        "1.\tMeringkas data mentah untuk tujuan analisis statistika.\n",
        "2.\tMengurangi maslah kompleksitas data dan menyajikan sifat-sifat data.\n",
        "3.\tMemudahkan untuk perbandingan dan membuat kesimpulan tentang data.\n",
        "4.\tMenyediakan informasi tentang hubungan antara elemen di dalam sekelompok data.\n",
        "5.\tMemudahkan kita dalam memisahkan elemen data ke dalam kelompok yang sama dan kemudian bisa mengelompokkan berdasarkan kesamaan dan ketidaksamaan elemen tersebut.\n",
        "\n"
      ]
    }
  ]
}