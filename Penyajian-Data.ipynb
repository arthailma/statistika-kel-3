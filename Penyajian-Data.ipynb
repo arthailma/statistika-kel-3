{
  "nbformat": 4,
  "nbformat_minor": 0,
  "metadata": {
    "colab": {
      "name": "Untitled1.ipynb",
      "version": "0.3.2",
      "provenance": [],
      "include_colab_link": true
    },
    "kernelspec": {
      "name": "python3",
      "display_name": "Python 3"
    }
  },
  "cells": [
    {
      "cell_type": "markdown",
      "metadata": {
        "id": "view-in-github",
        "colab_type": "text"
      },
      "source": [
        "<a href=\"https://colab.research.google.com/github/himmy97/statistika-kel-3/blob/master/Penyajian-Data.ipynb\" target=\"_parent\"><img src=\"https://colab.research.google.com/assets/colab-badge.svg\" alt=\"Open In Colab\"/></a>"
      ]
    },
    {
      "cell_type": "code",
      "metadata": {
        "id": "K0CbFh-ofNck",
        "colab_type": "code",
        "colab": {}
      },
      "source": [
        ""
      ],
      "execution_count": 0,
      "outputs": []
    },
    {
      "cell_type": "markdown",
      "metadata": {
        "id": "B1owBGuNoFHv",
        "colab_type": "text"
      },
      "source": [
        "# Penyajian Data\n",
        "\n",
        "Salah satu pembahasan dalam statistika deskriptif adalah teknik penyajian data. Data yang sudah kita kumpulkan dan sudah kita peroleh seyogyanya terorganisasi dengan baik, sehingga dapat disajikan dengan baik pula. Data yang tersaji dengan baik dapat dipahami dan bermakna bagi pengguna.\n",
        "\n",
        "Jika data yang sudah diperoleh jumlahnya sangat banyak, maka cara yang baik untuk menganalisa nya adalah dengan mengorganisasi dan menyajikan data tersebut dalam bentuk yang ringkas dan padat. Sehingga membuat pengguna mudah dan cepat dalam membaca data tersebut. Organisasi data adalah proses penyusunan data di dalam kelompok atau kelas berdasarkan ciri-ciri terttentu. Berikut ini adalah tujuan organisasi data:\n",
        "\n",
        "1.\tMeringkas data mentah untuk tujuan analisis statistika.\n",
        "2.\tMengurangi maslah kompleksitas data dan menyajikan sifat-sifat data.\n",
        "3.\tMemudahkan untuk perbandingan dan membuat kesimpulan tentang data.\n",
        "4.\tMenyediakan informasi tentang hubungan antara elemen di dalam sekelompok data.\n",
        "5.\tMemudahkan kita dalam memisahkan elemen data ke dalam kelompok yang sama dan kemudian bisa mengelompokkan berdasarkan kesamaan dan ketidaksamaan elemen tersebut.\n",
        "\n",
        "<style type=\"text/css\">\n",
        ".tg  {border-collapse:collapse;border-spacing:0;}\n",
        ".tg td{font-family:Arial, sans-serif;font-size:14px;padding:10px 5px;border-style:solid;border-width:1px;overflow:hidden;word-break:normal;border-color:black;}\n",
        ".tg th{font-family:Arial, sans-serif;font-size:14px;font-weight:normal;padding:10px 5px;border-style:solid;border-width:1px;overflow:hidden;word-break:normal;border-color:black;}\n",
        ".tg .tg-c3ow{border-color:inherit;text-align:center;vertical-align:top}\n",
        ".tg .tg-0pky{border-color:inherit;text-align:left;vertical-align:top}\n",
        ".tg .tg-dvpl{border-color:inherit;text-align:right;vertical-align:top}\n",
        "</style>\n",
        "<table class=\"tg\">\n",
        "  <tr>\n",
        "    <th class=\"tg-c3ow\" colspan=\"6\">Results</th>\n",
        "  </tr>\n",
        "  <tr>\n",
        "    <td class=\"tg-0pky\">No</td>\n",
        "    <td class=\"tg-0pky\">Competition</td>\n",
        "    <td class=\"tg-0pky\">John</td>\n",
        "    <td class=\"tg-0pky\">Adam</td>\n",
        "    <td class=\"tg-0pky\">Robert</td>\n",
        "    <td class=\"tg-0pky\">Paul</td>\n",
        "  </tr>\n",
        "  <tr>\n",
        "    <td class=\"tg-0pky\">1</td>\n",
        "    <td class=\"tg-0pky\">Swimming</td>\n",
        "    <td class=\"tg-dvpl\">1:30</td>\n",
        "    <td class=\"tg-dvpl\">2:05</td>\n",
        "    <td class=\"tg-dvpl\">1:15</td>\n",
        "    <td class=\"tg-dvpl\">1:41</td>\n",
        "  </tr>\n",
        "  <tr>\n",
        "    <td class=\"tg-0pky\">2</td>\n",
        "    <td class=\"tg-0pky\">Running</td>\n",
        "    <td class=\"tg-dvpl\">15:30</td>\n",
        "    <td class=\"tg-dvpl\">14:10</td>\n",
        "    <td class=\"tg-dvpl\">15:45</td>\n",
        "    <td class=\"tg-dvpl\">16:00</td>\n",
        "  </tr>\n",
        "  <tr>\n",
        "    <td class=\"tg-0pky\">3</td>\n",
        "    <td class=\"tg-0pky\">Shooting</td>\n",
        "    <td class=\"tg-dvpl\">70%</td>\n",
        "    <td class=\"tg-dvpl\">55%</td>\n",
        "    <td class=\"tg-dvpl\">90%</td>\n",
        "    <td class=\"tg-dvpl\">88%</td>\n",
        "  </tr>\n",
        "</table>"
      ]
    }
  ]
}